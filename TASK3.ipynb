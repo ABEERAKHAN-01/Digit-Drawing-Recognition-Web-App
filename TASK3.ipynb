{
  "nbformat": 4,
  "nbformat_minor": 0,
  "metadata": {
    "colab": {
      "provenance": []
    },
    "kernelspec": {
      "name": "python3",
      "display_name": "Python 3"
    },
    "language_info": {
      "name": "python"
    }
  },
  "cells": [
    {
      "cell_type": "markdown",
      "source": [
        "***INTSALLING NECESSARY DEPENDENCIES***"
      ],
      "metadata": {
        "id": "C6-186TWu2E4"
      }
    },
    {
      "cell_type": "code",
      "source": [
        "!pip -q install streamlit==1.37.0 streamlit-drawable-canvas==0.9.3 pyngrok==7.2.3 opencv-python-headless==4.10.0.84\n"
      ],
      "metadata": {
        "id": "4IYNvycZ8vnM"
      },
      "execution_count": null,
      "outputs": []
    },
    {
      "cell_type": "markdown",
      "source": [
        "***LOADING SAVED MODEL***"
      ],
      "metadata": {
        "id": "2bOsdUQHvCOq"
      }
    },
    {
      "cell_type": "code",
      "source": [
        "from google.colab import files\n",
        "uploaded = files.upload()\n",
        "\n",
        "import shutil\n",
        "if \"mnist_dense.keras\" not in uploaded:\n",
        "    # rename if uploaded file has different name\n",
        "    src = list(uploaded.keys())[0]\n",
        "    shutil.move(src, \"mnist_dense.keras\")\n",
        "print(\"✅ Model saved as mnist_dense.keras\")\n"
      ],
      "metadata": {
        "collapsed": true,
        "id": "uubx8MOR8_jO"
      },
      "execution_count": null,
      "outputs": []
    },
    {
      "cell_type": "markdown",
      "source": [
        "***CREATING STREAMLIT APP***"
      ],
      "metadata": {
        "id": "SwCjW4ZevIb2"
      }
    },
    {
      "cell_type": "code",
      "source": [
        "%%writefile app.py\n",
        "import os\n",
        "import cv2\n",
        "import numpy as np\n",
        "import streamlit as st\n",
        "from streamlit_drawable_canvas import st_canvas\n",
        "import tensorflow as tf\n",
        "\n",
        "st.set_page_config(page_title=\"Digit Recognition\", page_icon=\"🖌️\", layout=\"centered\")\n",
        "\n",
        "@st.cache_resource\n",
        "def load_model():\n",
        "    return tf.keras.models.load_model(\"mnist_dense.keras\", compile=False)\n",
        "\n",
        "model = load_model()\n",
        "\n",
        "def preprocess(img_rgba):\n",
        "    # RGBA → Gray\n",
        "    gray = cv2.cvtColor(img_rgba.astype(np.uint8), cv2.COLOR_RGBA2GRAY)\n",
        "    inv = 255 - gray  # invert → white digit on black background\n",
        "\n",
        "    # Crop bounding box\n",
        "    ys, xs = np.where(inv > 0)\n",
        "    if len(xs) == 0 or len(ys) == 0:\n",
        "        return np.zeros((28,28), np.float32)\n",
        "    x1, x2, y1, y2 = xs.min(), xs.max(), ys.min(), ys.max()\n",
        "    crop = inv[y1:y2+1, x1:x2+1]\n",
        "\n",
        "    # Resize to 20x20, then pad to 28x28\n",
        "    h, w = crop.shape\n",
        "    if h > w:\n",
        "        new_h, new_w = 20, int(w*(20/h))\n",
        "    else:\n",
        "        new_w, new_h = 20, int(h*(20/w))\n",
        "    resized = cv2.resize(crop, (new_w, new_h))\n",
        "    top, bottom = (28-new_h)//2, 28-new_h-(28-new_h)//2\n",
        "    left, right = (28-new_w)//2, 28-new_w-(28-new_w)//2\n",
        "    canvas = cv2.copyMakeBorder(resized, top, bottom, left, right, cv2.BORDER_CONSTANT, value=0)\n",
        "    return canvas.astype(np.float32)/255.0\n",
        "\n",
        "def prepare_input(img28):\n",
        "    shape = model.input_shape\n",
        "    if len(shape)==2: # Dense (784,)\n",
        "        return img28.reshape(1,784)\n",
        "    else: # CNN (28,28,1)\n",
        "        return img28.reshape(1,28,28,1)\n",
        "\n",
        "st.title(\"🖌️ Digit Drawing Recognition\")\n",
        "st.write(\"Draw a digit below and get prediction:\")\n",
        "\n",
        "if \"canvas_key\" not in st.session_state:\n",
        "    st.session_state.canvas_key = 0\n",
        "\n",
        "canvas_result = st_canvas(\n",
        "    stroke_color=\"#000000\",\n",
        "    stroke_width=15,\n",
        "    background_color=\"#FFFFFF\",\n",
        "    height=280,\n",
        "    width=280,\n",
        "    drawing_mode=\"freedraw\",\n",
        "    key=f\"canvas{st.session_state.canvas_key}\"\n",
        ")\n",
        "\n",
        "if canvas_result.image_data is not None:\n",
        "    img28 = preprocess(canvas_result.image_data)\n",
        "    st.image((img28*255).astype(np.uint8), width=150, caption=\"28x28 Input\")\n",
        "\n",
        "    if st.button(\"Predict\"):\n",
        "        x = prepare_input(img28)\n",
        "        preds = model.predict(x, verbose=0)[0]\n",
        "        st.success(f\"Prediction: {np.argmax(preds)} (Confidence {np.max(preds):.2%})\")\n",
        "        st.bar_chart({str(i): float(preds[i]) for i in range(10)})\n",
        "\n",
        "if st.button(\"Clear / Try Again\"):\n",
        "    st.session_state.canvas_key += 1\n",
        "    st.rerun()\n"
      ],
      "metadata": {
        "id": "TosiSNkS9bTp"
      },
      "execution_count": null,
      "outputs": []
    },
    {
      "cell_type": "markdown",
      "source": [
        "***USING NGROK FOR STREAMLIT CANVAS***"
      ],
      "metadata": {
        "id": "DBlhnKqJu7_G"
      }
    },
    {
      "cell_type": "code",
      "source": [
        "NGROK_AUTH = \"ENTER YOUR AUTHROKEN HERE\"\n"
      ],
      "metadata": {
        "id": "7k3aaQt59ePr"
      },
      "execution_count": null,
      "outputs": []
    },
    {
      "cell_type": "markdown",
      "source": [
        "***GENERATING LINK FOR PREDICTION***"
      ],
      "metadata": {
        "id": "sx3aep50vPoZ"
      }
    },
    {
      "cell_type": "code",
      "source": [
        "from pyngrok import ngrok\n",
        "import subprocess, time, os, signal\n",
        "\n",
        "# Kill previous if any\n",
        "!pkill streamlit || echo \"no streamlit running\"\n",
        "\n",
        "# Set auth\n",
        "if NGROK_AUTH and \"PASTE_YOUR_TOKEN_HERE\" not in NGROK_AUTH:\n",
        "    ngrok.set_auth_token(NGROK_AUTH)\n",
        "\n",
        "# Start streamlit\n",
        "proc = subprocess.Popen([\"streamlit\", \"run\", \"app.py\", \"--server.port\", \"8501\", \"--server.address\", \"0.0.0.0\"])\n",
        "\n",
        "# Wait and start tunnel\n",
        "time.sleep(3)\n",
        "public_url = ngrok.connect(8501).public_url\n",
        "print(\"🌍 Your app is live at:\", public_url)\n"
      ],
      "metadata": {
        "id": "BuIXAHuP9oW6"
      },
      "execution_count": null,
      "outputs": []
    }
  ]
}