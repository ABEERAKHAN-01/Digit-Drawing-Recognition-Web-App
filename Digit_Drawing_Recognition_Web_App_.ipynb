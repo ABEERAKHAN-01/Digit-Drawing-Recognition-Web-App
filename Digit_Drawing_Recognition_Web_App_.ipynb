{
  "cells": [
    {
      "cell_type": "markdown",
      "metadata": {
        "id": "view-in-github",
        "colab_type": "text"
      },
      "source": [
        "<a href=\"https://colab.research.google.com/github/ABEERAKHAN-01/Digit-Drawing-Recognition-Web-App/blob/main/Digit_Drawing_Recognition_Web_App_.ipynb\" target=\"_parent\"><img src=\"https://colab.research.google.com/assets/colab-badge.svg\" alt=\"Open In Colab\"/></a>"
      ]
    },
    {
      "cell_type": "markdown",
      "source": [
        "***INTSALLING NECESSARY DEPENDENCIES***"
      ],
      "metadata": {
        "id": "C6-186TWu2E4"
      }
    },
    {
      "cell_type": "code",
      "source": [
        "# Install dependencies\n",
        "!pip install -q streamlit-drawable-canvas\n",
        "!pip install -q streamlit pyngrok tensorflow numpy pillow\n",
        "\n",
        "import os\n",
        "import numpy as np\n",
        "from PIL import Image\n",
        "import tensorflow as tf\n",
        "from tensorflow import keras\n",
        "\n",
        "from pyngrok import ngrok\n"
      ],
      "metadata": {
        "id": "j2fcO5G5EjV0",
        "colab": {
          "base_uri": "https://localhost:8080/"
        },
        "outputId": "405c03bb-ac42-4c3f-f6fc-38127ec46b03"
      },
      "execution_count": 1,
      "outputs": [
        {
          "output_type": "stream",
          "name": "stdout",
          "text": [
            "\u001b[2K   \u001b[90m━━━━━━━━━━━━━━━━━━━━━━━━━━━━━━━━━━━━━━━━\u001b[0m \u001b[32m1.2/1.2 MB\u001b[0m \u001b[31m20.5 MB/s\u001b[0m eta \u001b[36m0:00:00\u001b[0m\n",
            "\u001b[2K   \u001b[90m━━━━━━━━━━━━━━━━━━━━━━━━━━━━━━━━━━━━━━━━\u001b[0m \u001b[32m9.9/9.9 MB\u001b[0m \u001b[31m64.8 MB/s\u001b[0m eta \u001b[36m0:00:00\u001b[0m\n",
            "\u001b[2K   \u001b[90m━━━━━━━━━━━━━━━━━━━━━━━━━━━━━━━━━━━━━━━━\u001b[0m \u001b[32m6.9/6.9 MB\u001b[0m \u001b[31m65.7 MB/s\u001b[0m eta \u001b[36m0:00:00\u001b[0m\n",
            "\u001b[?25h"
          ]
        }
      ]
    },
    {
      "cell_type": "markdown",
      "source": [
        "***USING NGROK FOR STREAMLIT CANVAS***"
      ],
      "metadata": {
        "id": "DBlhnKqJu7_G"
      }
    },
    {
      "cell_type": "code",
      "source": [
        "# Setup Ngrok\n",
        "\n",
        "\n",
        "NGROK_AUTH_TOKEN = \"31HcCiDVNBWzjR8AGpHLs38w76W_28jKUnWAvhD58dSevEyY2\"\n",
        "ngrok.set_auth_token(NGROK_AUTH_TOKEN)\n"
      ],
      "metadata": {
        "id": "hDoltXmb3QtK",
        "colab": {
          "base_uri": "https://localhost:8080/"
        },
        "outputId": "09492b8b-f4eb-4136-a019-bbb5966b7355"
      },
      "execution_count": 2,
      "outputs": [
        {
          "output_type": "stream",
          "name": "stdout",
          "text": []
        }
      ]
    },
    {
      "cell_type": "markdown",
      "source": [
        "***LOADING SAVED MODEL***"
      ],
      "metadata": {
        "id": "2bOsdUQHvCOq"
      }
    },
    {
      "cell_type": "code",
      "source": [
        "# Load your uploaded model\n",
        "MODEL_PATH = \"mnist_dense.keras\"\n",
        "\n",
        "if not os.path.exists(MODEL_PATH):\n",
        "    raise FileNotFoundError(f\"{MODEL_PATH} not found! Please upload it to Colab /content/.\")\n",
        "\n",
        "# Load without optimizer/compile state\n",
        "model = keras.models.load_model(MODEL_PATH, compile=False)\n",
        "print(\"✅ Model loaded successfully:\", MODEL_PATH)\n"
      ],
      "metadata": {
        "id": "hKQkxlU53hQj",
        "colab": {
          "base_uri": "https://localhost:8080/"
        },
        "outputId": "fa5e057b-e9b0-43e5-c784-d728412d176e"
      },
      "execution_count": 3,
      "outputs": [
        {
          "output_type": "stream",
          "name": "stdout",
          "text": [
            "✅ Model loaded successfully: mnist_dense.keras\n"
          ]
        }
      ]
    },
    {
      "cell_type": "markdown",
      "source": [
        "***CREATING STREAMLIT APP***"
      ],
      "metadata": {
        "id": "SwCjW4ZevIb2"
      }
    },
    {
      "cell_type": "code",
      "source": [
        "%%writefile app.py\n",
        "import os\n",
        "import cv2\n",
        "import numpy as np\n",
        "import streamlit as st\n",
        "from streamlit_drawable_canvas import st_canvas\n",
        "import tensorflow as tf\n",
        "\n",
        "st.set_page_config(page_title=\"Digit Recognition\", page_icon=\"🖌️\", layout=\"centered\")\n",
        "\n",
        "@st.cache_resource\n",
        "def load_model():\n",
        "    return tf.keras.models.load_model(\"mnist_dense.keras\", compile=False)\n",
        "\n",
        "model = load_model()\n",
        "\n",
        "def preprocess(img_rgba):\n",
        "    # RGBA → Gray\n",
        "    gray = cv2.cvtColor(img_rgba.astype(np.uint8), cv2.COLOR_RGBA2GRAY)\n",
        "    inv = 255 - gray  # invert → white digit on black background\n",
        "\n",
        "    # Crop bounding box\n",
        "    ys, xs = np.where(inv > 0)\n",
        "    if len(xs) == 0 or len(ys) == 0:\n",
        "        return np.zeros((28,28), np.float32)\n",
        "    x1, x2, y1, y2 = xs.min(), xs.max(), ys.min(), ys.max()\n",
        "    crop = inv[y1:y2+1, x1:x2+1]\n",
        "\n",
        "    # Resize to 20x20, then pad to 28x28\n",
        "    h, w = crop.shape\n",
        "    if h > w:\n",
        "        new_h, new_w = 20, int(w*(20/h))\n",
        "    else:\n",
        "        new_w, new_h = 20, int(h*(20/w))\n",
        "    resized = cv2.resize(crop, (new_w, new_h))\n",
        "    top, bottom = (28-new_h)//2, 28-new_h-(28-new_h)//2\n",
        "    left, right = (28-new_w)//2, 28-new_w-(28-new_w)//2\n",
        "    canvas = cv2.copyMakeBorder(resized, top, bottom, left, right, cv2.BORDER_CONSTANT, value=0)\n",
        "    return canvas.astype(np.float32)/255.0\n",
        "\n",
        "def prepare_input(img28):\n",
        "    shape = model.input_shape\n",
        "    if len(shape)==2: # Dense (784,)\n",
        "        return img28.reshape(1,784)\n",
        "    else: # CNN (28,28,1)\n",
        "        return img28.reshape(1,28,28,1)\n",
        "\n",
        "st.title(\"🖌️ Digit Drawing Recognition\")\n",
        "st.write(\"Draw a digit below and get prediction:\")\n",
        "\n",
        "if \"canvas_key\" not in st.session_state:\n",
        "    st.session_state.canvas_key = 0\n",
        "\n",
        "canvas_result = st_canvas(\n",
        "    stroke_color=\"#000000\",\n",
        "    stroke_width=15,\n",
        "    background_color=\"#FFFFFF\",\n",
        "    height=280,\n",
        "    width=280,\n",
        "    drawing_mode=\"freedraw\",\n",
        "    key=f\"canvas{st.session_state.canvas_key}\"\n",
        ")\n",
        "\n",
        "if canvas_result.image_data is not None:\n",
        "    img28 = preprocess(canvas_result.image_data)\n",
        "    st.image((img28*255).astype(np.uint8), width=150, caption=\"28x28 Input\")\n",
        "\n",
        "    if st.button(\"Predict\"):\n",
        "        x = prepare_input(img28)\n",
        "        preds = model.predict(x, verbose=0)[0]\n",
        "        st.success(f\"Prediction: {np.argmax(preds)} (Confidence {np.max(preds):.2%})\")\n",
        "        st.bar_chart({str(i): float(preds[i]) for i in range(10)})\n",
        "\n",
        "if st.button(\"Clear / Try Again\"):\n",
        "    st.session_state.canvas_key += 1\n",
        "    st.rerun()\n"
      ],
      "metadata": {
        "id": "Wapu2obi3Xiw",
        "colab": {
          "base_uri": "https://localhost:8080/"
        },
        "outputId": "db72ed66-50f0-4298-f042-c4bf696896f1"
      },
      "execution_count": 4,
      "outputs": [
        {
          "output_type": "stream",
          "name": "stdout",
          "text": [
            "Writing app.py\n"
          ]
        }
      ]
    },
    {
      "cell_type": "markdown",
      "source": [
        "***GENERATING LINK FOR PREDICTION***"
      ],
      "metadata": {
        "id": "sx3aep50vPoZ"
      }
    },
    {
      "cell_type": "code",
      "source": [
        "from pyngrok import ngrok\n",
        "import subprocess, time, os, signal\n",
        "\n",
        "# Kill previous if any\n",
        "!pkill streamlit || echo \"no streamlit running\"\n",
        "\n",
        "# Start streamlit\n",
        "proc = subprocess.Popen([\"streamlit\", \"run\", \"app.py\", \"--server.port\", \"8501\", \"--server.address\", \"0.0.0.0\"])\n",
        "\n",
        "# Wait and start tunnel\n",
        "time.sleep(3)\n",
        "public_url = ngrok.connect(8501).public_url\n",
        "print(\"🌍 Your app is live at:\", public_url)\n"
      ],
      "metadata": {
        "colab": {
          "base_uri": "https://localhost:8080/"
        },
        "id": "0cp7_9Q-5m2C",
        "outputId": "e6c51943-8f8b-4dbd-90f7-7d2fe4bc1234"
      },
      "execution_count": 5,
      "outputs": [
        {
          "output_type": "stream",
          "name": "stdout",
          "text": [
            "no streamlit running\n",
            "🌍 Your app is live at: https://47df1b0e1da9.ngrok-free.app\n"
          ]
        }
      ]
    }
  ],
  "metadata": {
    "kernelspec": {
      "display_name": "Python 3",
      "language": "python",
      "name": "python3"
    },
    "language_info": {
      "codemirror_mode": {
        "name": "ipython",
        "version": 3
      },
      "file_extension": ".py",
      "mimetype": "text/x-python",
      "name": "python",
      "nbconvert_exporter": "python",
      "pygments_lexer": "ipython3",
      "version": "3.6.7"
    },
    "colab": {
      "provenance": [],
      "include_colab_link": true
    }
  },
  "nbformat": 4,
  "nbformat_minor": 0
}